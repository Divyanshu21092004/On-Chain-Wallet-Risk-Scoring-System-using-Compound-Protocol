{
 "cells": [
  {
   "cell_type": "code",
   "execution_count": 16,
   "id": "d2e7584f-24e2-4122-8414-986cbd82af03",
   "metadata": {},
   "outputs": [
    {
     "name": "stdout",
     "output_type": "stream",
     "text": [
      " Folder structure created in your Jupyter Notebook directory.\n"
     ]
    }
   ],
   "source": [
    "import os\n",
    "\n",
    "# Create main folder\n",
    "project_folder = \"wallet-risk-scoring\"\n",
    "os.makedirs(project_folder, exist_ok=True)\n",
    "\n",
    "# Create required files/subfolders\n",
    "open(os.path.join(project_folder, \"main.py\"), 'a').close()\n",
    "open(os.path.join(project_folder, \"requirements.txt\"), 'a').close()\n",
    "open(os.path.join(project_folder, \"wallets.csv\"), 'a').close()\n",
    "open(os.path.join(project_folder, \"features.csv\"), 'a').close()\n",
    "open(os.path.join(project_folder, \"explanation.md\"), 'a').close()\n",
    "\n",
    "print(\" Folder structure created in your Jupyter Notebook directory.\")\n"
   ]
  },
  {
   "cell_type": "code",
   "execution_count": 14,
   "id": "dc4fd332-dbba-40ce-8d70-5a3fe555f4aa",
   "metadata": {},
   "outputs": [
    {
     "name": "stdout",
     "output_type": "stream",
     "text": [
      "File exists: True\n",
      "File size in bytes: 0\n"
     ]
    }
   ],
   "source": [
    "\n",
    "\n",
    "file_path = \"wallet-risk-scoring/features.csv\"\n",
    "print(\"File exists:\", os.path.exists(file_path))\n",
    "print(\"File size in bytes:\", os.path.getsize(file_path))\n"
   ]
  },
  {
   "cell_type": "code",
   "execution_count": 12,
   "id": "523e058b-298a-4fa5-b641-d146e91055e3",
   "metadata": {},
   "outputs": [
    {
     "name": "stdout",
     "output_type": "stream",
     "text": [
      "['wallet_id']\n"
     ]
    }
   ],
   "source": [
    "import pandas as pd\n",
    "\n",
    "wallets = pd.read_csv(\"wallets.csv\")\n",
    "print(wallets.columns.tolist())\n"
   ]
  },
  {
   "cell_type": "code",
   "execution_count": 12,
   "id": "7b9b552f-cff1-4011-b367-4db6c3a34552",
   "metadata": {},
   "outputs": [
    {
     "name": "stdout",
     "output_type": "stream",
     "text": [
      "Available columns: ['wallet_id']\n"
     ]
    }
   ],
   "source": [
    "\n",
    "# Load wallet list\n",
    "wallets = pd.read_csv(\"wallets.csv\")\n",
    "\n",
    "# Clean column names\n",
    "wallets.columns = wallets.columns.str.strip().str.lower().str.replace(\" \", \"_\")\n",
    "\n",
    "# Check available columns\n",
    "print(\"Available columns:\", wallets.columns.tolist())\n",
    "\n",
    "# Use the actual column name\n",
    "wallet_list = wallets[\"wallet_id\"].tolist()\n",
    "\n",
    "# Create output directory\n",
    "os.makedirs(\"wallet-risk-scoring\", exist_ok=True)\n"
   ]
  },
  {
   "cell_type": "code",
   "execution_count": 18,
   "id": "ea30b6e7-59b5-4d6c-992b-69c28e769ca4",
   "metadata": {},
   "outputs": [],
   "source": [
    "import requests\n",
    "import json\n",
    "import time\n",
    "\n",
    "def get_mock_compound_data(wallet_address):\n",
    "    # Simulating API response\n",
    "    return {\n",
    "        \"wallet\": wallet_address,\n",
    "        \"supply_count\": 5,\n",
    "        \"borrow_count\": 2,\n",
    "        \"liquidation_count\": 1,\n",
    "        \"total_supply_usd\": 1050,\n",
    "        \"total_borrow_usd\": 800\n",
    "    }\n",
    "\n",
    "\n"
   ]
  },
  {
   "cell_type": "code",
   "execution_count": 20,
   "id": "10082a7d-39b2-4e6b-aef3-2ea73b34f6c8",
   "metadata": {},
   "outputs": [
    {
     "name": "stdout",
     "output_type": "stream",
     "text": [
      "Fetching data for wallet 1/103: 0x0039f22efb07a647557c7c5d17854cfd6d489ef3\n",
      "Fetching data for wallet 2/103: 0x06b51c6882b27cb05e712185531c1f74996dd988\n",
      "Fetching data for wallet 3/103: 0x0795732aacc448030ef374374eaae57d2965c16c\n",
      "Fetching data for wallet 4/103: 0x0aaa79f1a86bc8136cd0d1ca0d51964f4e3766f9\n",
      "Fetching data for wallet 5/103: 0x0fe383e5abc200055a7f391f94a5f5d1f844b9ae\n",
      "Fetching data for wallet 6/103: 0x104ae61d8d487ad689969a17807ddc338b445416\n",
      "Fetching data for wallet 7/103: 0x111c7208a7e2af345d36b6d4aace8740d61a3078\n",
      "Fetching data for wallet 8/103: 0x124853fecb522c57d9bd5c21231058696ca6d596\n",
      "Fetching data for wallet 9/103: 0x13b1c8b0e696aff8b4fee742119b549b605f3cbc\n",
      "Fetching data for wallet 10/103: 0x1656f1886c5ab634ac19568cd571bc72f385fdf7\n",
      "Fetching data for wallet 11/103: 0x1724e16cb8d0e2aa4d08035bc6b5c56b680a3b22\n",
      "Fetching data for wallet 12/103: 0x19df3e87f73c4aaf4809295561465b993e102668\n",
      "Fetching data for wallet 13/103: 0x1ab2ccad4fc97c9968ea87d4435326715be32872\n",
      "Fetching data for wallet 14/103: 0x1c1b30ca93ef57452d53885d97a74f61daf2bf4f\n",
      "Fetching data for wallet 15/103: 0x1e43dacdcf863676a6bec8f7d6896d6252fac669\n",
      "Fetching data for wallet 16/103: 0x22d7510588d90ed5a87e0f838391aaafa707c34b\n",
      "Fetching data for wallet 17/103: 0x24b3460622d835c56d9a4fe352966b9bdc6c20af\n",
      "Fetching data for wallet 18/103: 0x26750f1f4277221bdb5f6991473c6ece8c821f9d\n",
      "Fetching data for wallet 19/103: 0x27f72a000d8e9f324583f3a3491ea66998275b28\n",
      "Fetching data for wallet 20/103: 0x2844658bf341db96aa247259824f42025e3bcec2\n",
      "Fetching data for wallet 21/103: 0x2a2fde3e1beb508fcf7c137a1d5965f13a17825e\n",
      "Fetching data for wallet 22/103: 0x330513970efd9e8dd606275fb4c50378989b3204\n",
      "Fetching data for wallet 23/103: 0x3361bea43c2f5f963f81ac70f64e6fba1f1d2a97\n",
      "Fetching data for wallet 24/103: 0x3867d222ba91236ad4d12c31056626f9e798629c\n",
      "Fetching data for wallet 25/103: 0x3a44be4581137019f83021eeee72b7dc57756069\n",
      "Fetching data for wallet 26/103: 0x3e69ad05716bdc834db72c4d6d44439a7c8a902b\n",
      "Fetching data for wallet 27/103: 0x427f2ac5fdf4245e027d767e7c3ac272a1f40a65\n",
      "Fetching data for wallet 28/103: 0x4814be124d7fe3b240eb46061f7ddfab468fe122\n",
      "Fetching data for wallet 29/103: 0x4839e666e2baf12a51bf004392b35972eeddeabf\n",
      "Fetching data for wallet 30/103: 0x4c4d05fe859279c91b074429b5fc451182cec745\n",
      "Fetching data for wallet 31/103: 0x4d997c89bc659a3e8452038a8101161e7e7e53a7\n",
      "Fetching data for wallet 32/103: 0x4db0a72edb5ea6c55df929f76e7d5bb14e389860\n",
      "Fetching data for wallet 33/103: 0x4e61251336c32e4fe6bfd5fab014846599321389\n",
      "Fetching data for wallet 34/103: 0x4e6e724f4163b24ffc7ffe662b5f6815b18b4210\n",
      "Fetching data for wallet 35/103: 0x507b6c0d950702f066a9a1bd5e85206f87b065ba\n",
      "Fetching data for wallet 36/103: 0x54e19653be9d4143b08994906be0e27555e8834d\n",
      "Fetching data for wallet 37/103: 0x56ba823641bfc317afc8459bf27feed6eb9ff59f\n",
      "Fetching data for wallet 38/103: 0x56cc2bffcb3f86a30c492f9d1a671a1f744d1d2f\n",
      "Fetching data for wallet 39/103: 0x578cea5f899b0dfbf05c7fbcfda1a644b2a47787\n",
      "Fetching data for wallet 40/103: 0x58c2a9099a03750e9842d3e9a7780cdd6aa70b86\n",
      "Fetching data for wallet 41/103: 0x58d68d4bcf9725e40353379cec92b90332561683\n",
      "Fetching data for wallet 42/103: 0x5e324b4a564512ea7c93088dba2f8c1bf046a3eb\n",
      "Fetching data for wallet 43/103: 0x612a3500559be7be7703de6dc397afb541a16f7f\n",
      "Fetching data for wallet 44/103: 0x623af911f493747c216ad389c7805a37019c662d\n",
      "Fetching data for wallet 45/103: 0x6a2752a534faacaaa153bffbb973dd84e0e5497b\n",
      "Fetching data for wallet 46/103: 0x6d69ca3711e504658977367e13c300ab198379f1\n",
      "Fetching data for wallet 47/103: 0x6e355417f7f56e7927d1cd971f0b5a1e6d538487\n",
      "Fetching data for wallet 48/103: 0x70c1864282599a762c674dd9d567b37e13bce755\n",
      "Fetching data for wallet 49/103: 0x70d8e4ab175dfe0eab4e9a7f33e0a2d19f44001e\n",
      "Fetching data for wallet 50/103: 0x7399dbeebe2f88bc6ac4e3fd7ddb836a4bce322f\n",
      "Fetching data for wallet 51/103: 0x767055590c73b7d2aaa6219da13807c493f91a20\n",
      "Fetching data for wallet 52/103: 0x7851bdfb64bbecfb40c030d722a1f147dff5db6a\n",
      "Fetching data for wallet 53/103: 0x7b4636320daa0bc055368a4f9b9d01bd8ac51877\n",
      "Fetching data for wallet 54/103: 0x7b57dbe2f2e4912a29754ff3e412ed9507fd8957\n",
      "Fetching data for wallet 55/103: 0x7be3dfb5b6fcbae542ea85e76cc19916a20f6c1e\n",
      "Fetching data for wallet 56/103: 0x7de76a449cf60ea3e111ff18b28e516d89532152\n",
      "Fetching data for wallet 57/103: 0x7e3eab408b9c76a13305ef34606f17c16f7b33cc\n",
      "Fetching data for wallet 58/103: 0x7f5e6a28afc9fb0aaf4259d4ff69991b88ebea47\n",
      "Fetching data for wallet 59/103: 0x83ea74c67d393c6894c34c464657bda2183a2f1a\n",
      "Fetching data for wallet 60/103: 0x8441fecef5cc6f697be2c4fc4a36feacede8df67\n",
      "Fetching data for wallet 61/103: 0x854a873b8f9bfac36a5eb9c648e285a095a7478d\n",
      "Fetching data for wallet 62/103: 0x8587d9f794f06d976c2ec1cfd523983b856f5ca9\n",
      "Fetching data for wallet 63/103: 0x880a0af12da55df1197f41697c1a1b61670ed410\n",
      "Fetching data for wallet 64/103: 0x8aaece100580b749a20f8ce30338c4e0770b65ed\n",
      "Fetching data for wallet 65/103: 0x8be38ea2b22b706aef313c2de81f7d179024dd30\n",
      "Fetching data for wallet 66/103: 0x8d900f213db5205c529aaba5d10e71a0ed2646db\n",
      "Fetching data for wallet 67/103: 0x91919344c1dad09772d19ad8ad4f1bcd29c51f27\n",
      "Fetching data for wallet 68/103: 0x93f0891bf71d8abed78e0de0885bd26355bb8b1d\n",
      "Fetching data for wallet 69/103: 0x96479b087cb8f236a5e2dcbfc50ce63b2f421da6\n",
      "Fetching data for wallet 70/103: 0x96bb4447a02b95f1d1e85374cffd565eb22ed2f8\n",
      "Fetching data for wallet 71/103: 0x9a363adc5d382c04d36b09158286328f75672098\n",
      "Fetching data for wallet 72/103: 0x9ad1331c5b6c5a641acffb32719c66a80c6e1a17\n",
      "Fetching data for wallet 73/103: 0x9ba0d85f71e145ccf15225e59631e5a883d5d74a\n",
      "Fetching data for wallet 74/103: 0x9e6ec4e98793970a1307262ba68d37594e58cd78\n",
      "Fetching data for wallet 75/103: 0xa7e94d933eb0c439dda357f61244a485246e97b8\n",
      "Fetching data for wallet 76/103: 0xa7f3c74f0255796fd5d3ddcf88db769f7a6bf46a\n",
      "Fetching data for wallet 77/103: 0xa98dc64bb42575efec7d1e4560c029231ce5da51\n",
      "Fetching data for wallet 78/103: 0xb271ff7090b39028eb6e711c3f89a3453d5861ee\n",
      "Fetching data for wallet 79/103: 0xb475576594ae44e1f75f534f993cbb7673e4c8b6\n",
      "Fetching data for wallet 80/103: 0xb57297c5d02def954794e593db93d0a302e43e5c\n",
      "Fetching data for wallet 81/103: 0xbd4a00764217c13a246f86db58d74541a0c3972a\n",
      "Fetching data for wallet 82/103: 0xc179d55f7e00e789915760f7d260a1bf6285278b\n",
      "Fetching data for wallet 83/103: 0xc22b8e78394ce52e0034609a67ae3c959daa84bc\n",
      "Fetching data for wallet 84/103: 0xcbbd9fe837a14258286bbf2e182cbc4e4518c5a3\n",
      "Fetching data for wallet 85/103: 0xcecf5163bb057c1aff4963d9b9a7d2f0bf591710\n",
      "Fetching data for wallet 86/103: 0xcf0033bf27804640e5339e06443e208db5870dd2\n",
      "Fetching data for wallet 87/103: 0xd0df53e296c1e3115fccc3d7cdf4ba495e593b56\n",
      "Fetching data for wallet 88/103: 0xd1a3888fd8f490367c6104e10b4154427c02dd9c\n",
      "Fetching data for wallet 89/103: 0xd334d18fa6bada9a10f361bae42a019ce88a3c33\n",
      "Fetching data for wallet 90/103: 0xd9d3930ffa343f5a0eec7606d045d0843d3a02b4\n",
      "Fetching data for wallet 91/103: 0xdde73df7bd4d704a89ad8421402701b3a460c6e9\n",
      "Fetching data for wallet 92/103: 0xde92d70253604fd8c5998c8ee3ed282a41b33b7f\n",
      "Fetching data for wallet 93/103: 0xded1f838ae6aa5fcd0f13481b37ee88e5bdccb3d\n",
      "Fetching data for wallet 94/103: 0xebb8629e8a3ec86cf90cb7600264415640834483\n",
      "Fetching data for wallet 95/103: 0xeded1c8c0a0c532195b8432153f3bfa81dba2a90\n",
      "Fetching data for wallet 96/103: 0xf10fd8921019615a856c1e95c7cd3632de34edc4\n",
      "Fetching data for wallet 97/103: 0xf340b9f2098f80b86fbc5ede586c319473aa11f3\n",
      "Fetching data for wallet 98/103: 0xf54f36bca969800fd7d63a68029561309938c09b\n",
      "Fetching data for wallet 99/103: 0xf60304b534f74977e159b2e159e135475c245526\n",
      "Fetching data for wallet 100/103: 0xf67e8e5805835465f7eba988259db882ab726800\n",
      "Fetching data for wallet 101/103: 0xf7aa5d0752cfcd41b0a5945867d619a80c405e52\n",
      "Fetching data for wallet 102/103: 0xf80a8b9cfff0febf49914c269fb8aead4a22f847\n",
      "Fetching data for wallet 103/103: 0xfe5a05c0f8b24fca15a7306f6a4ebb7dcf2186ac\n"
     ]
    }
   ],
   "source": [
    "# Loop through wallets and fetch + save data\n",
    "for i, wallet in enumerate(wallet_list):\n",
    "    print(f\"Fetching data for wallet {i+1}/{len(wallet_list)}: {wallet}\")\n",
    "\n",
    "    # Fetch data (replace this with real API call later)\n",
    "    data = get_mock_compound_data(wallet)\n",
    "\n",
    "    # Save to JSON file\n",
    "    with open(f\"wallet-risk-scoring/{wallet}.json\", \"w\") as f:\n",
    "        json.dump(data, f)\n",
    "\n",
    "    time.sleep(0.5)  # Rate limit friendly\n"
   ]
  },
  {
   "cell_type": "code",
   "execution_count": 38,
   "id": "7a7e7ed9-fbfe-4463-a322-977fc2141749",
   "metadata": {},
   "outputs": [],
   "source": [
    "\n",
    "\n",
    "def calculate_risk_score(wallet_data):\n",
    "    supply_count = wallet_data.get(\"supply_count\", 0)\n",
    "    borrow_count = wallet_data.get(\"borrow_count\", 0)\n",
    "    liquidation_count = wallet_data.get(\"liquidation_count\", 0)\n",
    "    total_supply = wallet_data.get(\"total_supply_usd\", 0)\n",
    "    total_borrow = wallet_data.get(\"total_borrow_usd\", 0)\n",
    "\n",
    "    # Derived feature\n",
    "    borrow_ratio = total_borrow / (total_supply + 1)\n",
    "\n",
    "# Risk scoring formula\n",
    "    risk_score = (\n",
    "        borrow_ratio * 400 +\n",
    "        liquidation_count * 200 +\n",
    "        borrow_count * 100 -\n",
    "        supply_count * 50\n",
    "    )\n",
    "\n",
    "# Clip score between 0 and 1000\n",
    "    risk_score = max(0, min(1000, risk_score))\n",
    "\n",
    "    return {\n",
    "        \"supply_count\": supply_count,\n",
    "        \"borrow_count\": borrow_count,\n",
    "        \"liquidation_count\": liquidation_count,\n",
    "        \"total_supply_usd\": total_supply,\n",
    "        \"total_borrow_usd\": total_borrow,\n",
    "        \"borrow_ratio\": borrow_ratio,\n",
    "        \"risk_score\": round(risk_score, 2)\n",
    "    }"
   ]
  },
  {
   "cell_type": "code",
   "execution_count": 42,
   "id": "65a84abd-a5dc-4729-914b-b38ed743233b",
   "metadata": {},
   "outputs": [
    {
     "name": "stdout",
     "output_type": "stream",
     "text": [
      " Risk scores saved to wallet_risk_scores.csv\n"
     ]
    }
   ],
   "source": [
    "# Directory containing JSON files\n",
    "json_dir = \"wallet-risk-scoring\"\n",
    "\n",
    "results = []\n",
    "\n",
    "# Loop through JSON files\n",
    "for filename in os.listdir(json_dir):\n",
    "    if filename.endswith(\".json\"):\n",
    "        wallet_address = filename.replace(\".json\", \"\")\n",
    "        with open(os.path.join(json_dir, filename), \"r\") as f:\n",
    "            wallet_data = json.load(f)\n",
    "            features = calculate_risk_score(wallet_data)\n",
    "            features[\"wallet_address\"] = wallet_address\n",
    "            results.append(features)\n",
    "\n",
    "# Save final DataFrame\n",
    "df = pd.DataFrame(results)\n",
    "df.to_csv(\"wallet_risk_scores.csv\", index=False)\n",
    "\n",
    "print(\" Risk scores saved to wallet_risk_scores.csv\")"
   ]
  },
  {
   "cell_type": "code",
   "execution_count": 46,
   "id": "09343038-3b02-4df5-bf49-78e8da739020",
   "metadata": {},
   "outputs": [
    {
     "name": "stdout",
     "output_type": "stream",
     "text": [
      "Final submission CSV saved as submission_wallet_scores.csv\n"
     ]
    }
   ],
   "source": [
    "\n",
    "\n",
    "# Load the full scores file\n",
    "df = pd.read_csv(\"wallet_risk_scores.csv\")\n",
    "\n",
    "# Rename columns for submission format\n",
    "df_submission = df[[\"wallet_address\", \"risk_score\"]].rename(columns={\n",
    "    \"wallet_address\": \"wallet_id\",\n",
    "    \"risk_score\": \"score\"\n",
    "})\n",
    "\n",
    "# Save submission CSV\n",
    "df_submission.to_csv(\"submission_wallet_scores.csv\", index=False)\n",
    "\n",
    "print(\"Final submission CSV saved as submission_wallet_scores.csv\")\n"
   ]
  },
  {
   "cell_type": "code",
   "execution_count": 10,
   "id": "05d4fa06-f2e5-418e-ba2a-7d31c6199af6",
   "metadata": {},
   "outputs": [
    {
     "name": "stdout",
     "output_type": "stream",
     "text": [
      " Final submission CSV saved as submission_wallet_scores.csv\n"
     ]
    }
   ],
   "source": [
    "# Save submission CSV\n",
    "df_submission.to_csv(\"submission_wallet_scores.csv\", index=False)\n",
    "\n",
    "print(\" Final submission CSV saved as submission_wallet_scores.csv\")"
   ]
  },
  {
   "cell_type": "code",
   "execution_count": null,
   "id": "9f9f9df6-b5c9-4ef2-aba3-a6ec71e90173",
   "metadata": {},
   "outputs": [],
   "source": []
  }
 ],
 "metadata": {
  "kernelspec": {
   "display_name": "Python 3 (ipykernel)",
   "language": "python",
   "name": "python3"
  },
  "language_info": {
   "codemirror_mode": {
    "name": "ipython",
    "version": 3
   },
   "file_extension": ".py",
   "mimetype": "text/x-python",
   "name": "python",
   "nbconvert_exporter": "python",
   "pygments_lexer": "ipython3",
   "version": "3.12.4"
  }
 },
 "nbformat": 4,
 "nbformat_minor": 5
}
